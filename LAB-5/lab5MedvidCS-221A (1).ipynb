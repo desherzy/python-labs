{
  "metadata": {
    "language_info": {
      "codemirror_mode": {
        "name": "python",
        "version": 3
      },
      "file_extension": ".py",
      "mimetype": "text/x-python",
      "name": "python",
      "nbconvert_exporter": "python",
      "pygments_lexer": "ipython3",
      "version": "3.8"
    },
    "kernelspec": {
      "name": "python",
      "display_name": "Python (Pyodide)",
      "language": "python"
    }
  },
  "nbformat_minor": 4,
  "nbformat": 4,
  "cells": [
    {
      "cell_type": "code",
      "source": "N = ord(\"R\") % 5 + 1;\nprint(N);",
      "metadata": {
        "trusted": true
      },
      "execution_count": 1,
      "outputs": [
        {
          "name": "stdout",
          "text": "3\n",
          "output_type": "stream"
        }
      ]
    },
    {
      "cell_type": "code",
      "source": "%pip install pandas opencv-python openpyxl",
      "metadata": {
        "trusted": true
      },
      "execution_count": 3,
      "outputs": []
    },
    {
      "cell_type": "code",
      "source": "import pandas as pd\nimport cv2\n\nclass ImageProcessor:\n    def __init__(self, variant_data):\n        self.variant_data = variant_data\n        self.colors = {\n            'red': (0, 0, 255),\n            'blue': (255, 0, 0),\n            'cian': (0, 0, 255),\n            'magenta': (255, 0, 255),\n            'yellow': (0, 255, 255)\n        }\n\n    def convert_color(self, color_text):\n        return self.colors.get(color_text, (0, 0, 0))\n\n    def process_image(self, image_path):\n        img = cv2.imread(image_path)\n        if img is None:\n            print(f\"Failed to read the image {image_path}\")\n            return None\n\n        face_cascade = cv2.CascadeClassifier(cv2.data.haarcascades + 'haarcascade_frontalface_default.xml')\n        eye_cascade = cv2.CascadeClassifier(cv2.data.haarcascades + 'haarcascade_eye.xml')\n\n        gray = cv2.cvtColor(img, cv2.COLOR_BGR2GRAY)\n        faces = face_cascade.detectMultiScale(gray, 1.3, 5)\n\n        glasses_color_bgr = self.convert_color(self.variant_data['glasses color'].values[0])\n        image_size = tuple(map(int, self.variant_data['image size'].values[0].split('x')))\n        #line_width = int(self.variant_data['line width'].values[0])\n        line_width = 2;\n\n        for (x, y, w, h) in faces:\n            face_roi = img[y:y+h, x:x+w]\n            face_gray = gray[y:y+h, x:x+w]\n            eyes = eye_cascade.detectMultiScale(face_gray)\n            eye_centers = []\n\n            for (ex, ey, ew, eh) in eyes:\n                glass_x = int(ex + 0.5 * ew)\n                glass_y = int(ey + 0.5 * eh)\n                glass_radius = int(0.5 * max(ew, eh))\n\n                cv2.circle(face_roi, (glass_x, glass_y), glass_radius, glasses_color_bgr, line_width)\n                eye_centers.append((x + glass_x, y + glass_y))\n\n            eye_centers = sorted(eye_centers, key=lambda x: x[0])\n            \n            if len(eye_centers) == 2:\n                cv2.line(img, (eye_centers[0][0] + glass_radius, eye_centers[0][1]), (eye_centers[1][0] - glass_radius, eye_centers[1][1]), glasses_color_bgr, line_width)\n                cv2.line(img, (eye_centers[0][0] - glass_radius, eye_centers[0][1]), (eye_centers[0][0] - 50, eye_centers[0][1]), glasses_color_bgr, line_width)\n                cv2.line(img, (eye_centers[1][0] + glass_radius, eye_centers[1][1]), (eye_centers[1][0] + 50, eye_centers[1][1]), glasses_color_bgr, line_width)\n\n            result_img = cv2.resize(img, image_size)\n            result_image_path = f'{image_path[:-4]}_glasses.jpg'\n            cv2.imwrite(result_image_path, result_img)\n\n            return result_image_path\n\n\ndf = pd.read_excel('lab6.xlsx')\nvariant_data = df[df['N'] == 3]\nfile_path = \"./Images/\" + variant_data['file name'].values[0]\nprocessor = ImageProcessor(variant_data)\nresult_image_path = processor.process_image(file_path)\nprint(\"Image saved.\")",
      "metadata": {
        "trusted": true
      },
      "execution_count": 10,
      "outputs": [
        {
          "name": "stdout",
          "text": "Image saved.\n",
          "output_type": "stream"
        }
      ]
    },
    {
      "cell_type": "code",
      "source": "",
      "metadata": {},
      "execution_count": null,
      "outputs": []
    }
  ]
}
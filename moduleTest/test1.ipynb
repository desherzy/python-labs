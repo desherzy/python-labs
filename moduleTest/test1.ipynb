{
  "metadata": {
    "language_info": {
      "codemirror_mode": {
        "name": "python",
        "version": 3
      },
      "file_extension": ".py",
      "mimetype": "text/x-python",
      "name": "python",
      "nbconvert_exporter": "python",
      "pygments_lexer": "ipython3",
      "version": "3.8"
    },
    "kernelspec": {
      "name": "python",
      "display_name": "Python (Pyodide)",
      "language": "python"
    }
  },
  "nbformat_minor": 4,
  "nbformat": 4,
  "cells": [
    {
      "cell_type": "code",
      "source": "import numpy as np\n\nVEC_1 = np.array([-0.25560104, 0.06393334, -0.43760861, 0.35258494, -0.06174621])\nVEC_2 = np.array([0.16257878, -0.88344182, 1.14405499, 0.33765161, 1.206262])\n\nmanhattan_distance = np.sum(np.abs(VEC_1 - VEC_2))\n\nprint(manhattan_distance)",
      "metadata": {
        "trusted": true
      },
      "execution_count": 2,
      "outputs": [
        {
          "name": "stdout",
          "text": "4.23016012\n",
          "output_type": "stream"
        }
      ]
    },
    {
      "cell_type": "code",
      "source": "old = np.ones((2, 3), dtype = 'int')\nnew = old\nnew[0, :2] = 0\nprint(old)",
      "metadata": {
        "trusted": true
      },
      "execution_count": 3,
      "outputs": [
        {
          "name": "stdout",
          "text": "[[0 0 1]\n [1 1 1]]\n",
          "output_type": "stream"
        }
      ]
    },
    {
      "cell_type": "code",
      "source": "VEC = [-3, 5, 1, 2, 18, 2, 234, 11]\n\neven_entries = [x for x in VEC if x % 2 == 0]\n\nprint(even_entries)",
      "metadata": {
        "trusted": true
      },
      "execution_count": 4,
      "outputs": [
        {
          "name": "stdout",
          "text": "[2, 18, 2, 234]\n",
          "output_type": "stream"
        }
      ]
    },
    {
      "cell_type": "code",
      "source": "import numpy as np\n\nMAT = np.array([[1.27411064, 0.05188032, -1.27088046],\n                [-0.78844599, -0.14775522, -0.28198009]])\n\naverage_value = np.mean(MAT)\n\nprint(average_value)",
      "metadata": {
        "trusted": true
      },
      "execution_count": 5,
      "outputs": [
        {
          "name": "stdout",
          "text": "-0.1938451333333334\n",
          "output_type": "stream"
        }
      ]
    },
    {
      "cell_type": "code",
      "source": "import numpy as np\n\nMAT_1 = np.array([[0.6583596987271446, 1.0128241391924433],\n                 [0.37783705753739877, 0.42421340135829255],\n                 [-0.6905233695318467, -0.498554227530507]])\n\nMAT_2 = np.array([[0.5045660075993441],\n                 [1.83029285141006]])\n\nresult = np.dot(MAT_1, MAT_2)\n\nprint(result)",
      "metadata": {
        "trusted": true
      },
      "execution_count": 6,
      "outputs": [
        {
          "name": "stdout",
          "text": "[[ 2.18595071]\n [ 0.96707849]\n [-1.26091486]]\n",
          "output_type": "stream"
        }
      ]
    },
    {
      "cell_type": "code",
      "source": "import numpy as np\n\nstart = 3\nend = 10\n\nresult = np.arange(start, end + 1)  # +1 to include the 'end' value\n\nprint(result)",
      "metadata": {
        "trusted": true
      },
      "execution_count": 7,
      "outputs": [
        {
          "name": "stdout",
          "text": "[ 3  4  5  6  7  8  9 10]\n",
          "output_type": "stream"
        }
      ]
    },
    {
      "cell_type": "code",
      "source": "import numpy as np\n\nVEC_1 = np.array([-0.25560104, 0.06393334, -0.43760861, 0.35258494, -0.06174621])\nVEC_2 = np.array([0.16257878, -0.88344182, 1.14405499, 0.33765161, 1.206262])\n\neuclidean_distance = np.linalg.norm(VEC_1 - VEC_2)\n\nprint(euclidean_distance)",
      "metadata": {
        "trusted": true
      },
      "execution_count": 8,
      "outputs": [
        {
          "name": "stdout",
          "text": "2.27642738170527\n",
          "output_type": "stream"
        }
      ]
    },
    {
      "cell_type": "code",
      "source": "import numpy as np\n\nMAT_1 = np.array([[0.6583596987271446, 1.0128241391924433],\n                 [0.37783705753739877, 0.42421340135829255],\n                 [-0.6905233695318467, -0.498554227530507]])\n\nMAT_2 = np.array([[0.6583596987271446, 1.0128241391924433],\n                 [0.37883705753739877, 0.42421340135829255],\n                 [-0.6905233695318467, -0.498554227530507]])\n\nare_equal = np.array_equal(MAT_1, MAT_2)\n\nprint(are_equal)",
      "metadata": {
        "trusted": true
      },
      "execution_count": 9,
      "outputs": [
        {
          "name": "stdout",
          "text": "False\n",
          "output_type": "stream"
        }
      ]
    },
    {
      "cell_type": "code",
      "source": "",
      "metadata": {},
      "execution_count": null,
      "outputs": []
    }
  ]
}
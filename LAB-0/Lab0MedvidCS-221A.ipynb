{
  "metadata": {
    "language_info": {
      "codemirror_mode": {
        "name": "python",
        "version": 3
      },
      "file_extension": ".py",
      "mimetype": "text/x-python",
      "name": "python",
      "nbconvert_exporter": "python",
      "pygments_lexer": "ipython3",
      "version": "3.8"
    },
    "kernelspec": {
      "name": "python",
      "display_name": "Python (Pyodide)",
      "language": "python"
    }
  },
  "nbformat_minor": 4,
  "nbformat": 4,
  "cells": [
    {
      "cell_type": "code",
      "source": "N = ord(\"R\") % 10 + 1\nprint(N)",
      "metadata": {
        "trusted": true
      },
      "execution_count": 42,
      "outputs": [
        {
          "name": "stdout",
          "text": "3\n",
          "output_type": "stream"
        }
      ]
    },
    {
      "cell_type": "markdown",
      "source": "# <span style=\"color: #ff0000;\">**Гайана**</span>\n\n<img src=\"https://otdyhateli.com/wp-content/uploads/2016/03/616373-guyana-waterfall.jpg?\" alt=\"Гайана\" width=\"400\">\n\n## <span style=\"color: #4B0082;\">***Трішки про Гайану***</span>\n| Площа             | 214 969 км. кв. |\n| ------------------| ----------------|\n| Населення         | 801 194 осіб    |\n| Державйний устрій | Республіка      |\n| Мова              | Англійська мова |\n| Президент         | Ірфаан Алі      |\n\n## <span style=\"color: #00FF00;\">***Видатні персони Гайани***</span> \n- Ірфаан Алі (10-й президент Гайани)\n- Марк Філліпс (прем'єр міністр)\n- Джанет Розенберг Джаган (7-й президент Гайани)\n\n## <span style=\"color: #FFD700;\">***Пам'ятки Гайани***</span> \n### <span style=\"color: #FF4500;\">***Пам'ятки культури:***</span> \n1. Столиця Георгтаун: Місто Георгтаун є культурним центром Гаяни, зі своєю колоритною архітектурою, красивими церквами та музеями.\n2. Старе місто Нью-Амстердам: Це історичне місто, що зберегло багато нідерландських спадщин. Воно відоме своєю красивою архітектурою та історичними пам'ятками.\n3. Костел Святого Джорджа: Цей англіканський костел в Георгтауні відомий своєю готичною архітектурою та історією.\n4. Культурна спадщина індіанців Аравака та Карібських островів: Мешканці Гаяни належать до різних індіанських племен, і їхні традиції та ремесла відіграють важливу роль у культурі країни.\n\n### <span style=\"color: #2E8B57;\">***Пам'ятки природи***</span> \n1. Кайлаші Маунтінс: Ці гори в південній частині Гаяни є домом для різноманітних видів флори та фауни.\n2. Річка Ессекібо: Гаяна має численні великі річки, включаючи річку Ессекібо, яка пропливає через найбільші міста та плантації.\n3. Гайанський шар зеленого древостою: Гаяна відома своїми неперервними лісами, які є дому для численних видів рослин і тварин, включаючи ягуарів, тапірів та різні види папуг.\n4. Остріви Кайлхун: Гаяна включає в себе також кілька невеликих островів на ріці Ессекібо, включаючи острови Кайлхун, які відомі своєю природною красою та пляжами.\n\n![Фото Гайани](D:\\R19\\Photos\\Roraima-Tepui_Wand.jpg)\n\n**Якщо бажаєте дізнатися більше про Гайану, то перейдіть за цим посиланням [посиланням](https://uk.wikipedia.org/wiki/%D0%93%D0%B0%D1%8F%D0%BD%D0%B0).**",
      "metadata": {}
    },
    {
      "cell_type": "code",
      "source": "%%HTML\n<h1>Гайана</h1>\n<svg xmlns=\"http://www.w3.org/2000/svg\" width=\"300\" height=\"200\">\n  <rect width=\"100%\" height=\"100%\" fill=\"#2E8B57\"/>\n  <polygon points=\"0,0 0,200 300,100\" fill=\"white\"/>\n  <polygon points=\"0,10 0,190 280,100\" fill=\"yellow\"/>\n  <polygon points=\"0,0 0,200 150,100\" fill=\"black\"/>\n  <polygon points=\"0,10 0,190 135,100\" fill=\"red\"/>\n</svg>",
      "metadata": {
        "trusted": true
      },
      "execution_count": 40,
      "outputs": [
        {
          "output_type": "display_data",
          "data": {
            "text/plain": "<IPython.core.display.HTML object>",
            "text/html": "<h1>Гайана</h1>\n<svg xmlns=\"http://www.w3.org/2000/svg\" width=\"300\" height=\"200\">\n  <rect width=\"100%\" height=\"100%\" fill=\"#2E8B57\"/>\n  <polygon points=\"0,0 0,200 300,100\" fill=\"white\"/>\n  <polygon points=\"0,10 0,190 280,100\" fill=\"yellow\"/>\n  <polygon points=\"0,0 0,200 150,100\" fill=\"black\"/>\n  <polygon points=\"0,10 0,190 135,100\" fill=\"red\"/>\n</svg>\n"
          },
          "metadata": {}
        }
      ]
    },
    {
      "cell_type": "code",
      "source": "def task4(numbers):\n    try: \n        formated = [int(x) for x in numbers]\n    except ValueError:\n         return \"Помилка. У списку присутнє нечислове значення\"\n    \n    numbers.sort()\n    print(numbers)\n    length = len(numbers)\n    return numbers[int(length / 2)]\n\nprint(\"Test data 1\")\ndigits1 = \"6 4 9 7 1 3 2 8 5\".split()\nprint(digits1)\ntest1 = task4(digits1)\nprint(test1 + '\\n')\n\nprint(\"Test data 2\")\ndigits2 = \"72 99 87 43 19 25 16 1\".split()\nprint(digits2)\ntest2 = task4(digits2)\nprint(test2 + '\\n')\n\nprint(\"Test data 3\")\ndigits3 = \"24 56 str 98 12 9 66 1 44 print\".split()\nprint(digits3)\ntest3 = task4(digits3)\nprint(test3 + '\\n')\n\nprint(\"Test data 4\")\ndigits4 = \"a 6 4 9 b 7 1 3 2 8 5 d\".split()\nprint(digits4)\ntest4 = task4(digits4)\nprint(test4 + '\\n')",
      "metadata": {
        "trusted": true
      },
      "execution_count": 39,
      "outputs": [
        {
          "name": "stdout",
          "text": "Test data 1\n['6', '4', '9', '7', '1', '3', '2', '8', '5']\n['1', '2', '3', '4', '5', '6', '7', '8', '9']\n5\n\nTest data 2\n['72', '99', '87', '43', '19', '25', '16', '1']\n['1', '16', '19', '25', '43', '72', '87', '99']\n43\n\nTest data 3\n['24', '56', 'str', '98', '12', '9', '66', '1', '44', 'print']\nПомилка. У списку присутнє нечислове значення\n\nTest data 4\n['a', '6', '4', '9', 'b', '7', '1', '3', '2', '8', '5', 'd']\nПомилка. У списку присутнє нечислове значення\n\n",
          "output_type": "stream"
        }
      ]
    },
    {
      "cell_type": "code",
      "source": "",
      "metadata": {},
      "execution_count": null,
      "outputs": []
    }
  ]
}